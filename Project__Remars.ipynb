{
  "nbformat": 4,
  "nbformat_minor": 0,
  "metadata": {
    "colab": {
      "provenance": [],
      "authorship_tag": "ABX9TyOmKlxkmeQBAM1QuV2tbHdm",
      "include_colab_link": true
    },
    "kernelspec": {
      "name": "python3",
      "display_name": "Python 3"
    },
    "language_info": {
      "name": "python"
    }
  },
  "cells": [
    {
      "cell_type": "markdown",
      "metadata": {
        "id": "view-in-github",
        "colab_type": "text"
      },
      "source": [
        "<a href=\"https://colab.research.google.com/github/Clei21/Project_REMARS/blob/main/Project__Remars.ipynb\" target=\"_parent\"><img src=\"https://colab.research.google.com/assets/colab-badge.svg\" alt=\"Open In Colab\"/></a>"
      ]
    },
    {
      "cell_type": "markdown",
      "source": [
        "\n",
        "# NASA Space Apps Challenge 2025\n",
        "## **Team:** Tambackins  \n",
        "## **Project:** REMARS — *Recycling & Manufacturing for Mars Sustainability*  \n",
        "\n",
        "# **Team Members:**  \n",
        "# - Leonor Joana Ramos Oliveira  \n",
        "# - Cleidiana Manoel Alves  \n",
        "# - Rayane Farias\n",
        "# - Jonatas da Silva Santos\n",
        "\n",
        "#  **Mission Context:**  \n",
        "# During long-term missions to Mars, crews generate large amounts of inorganic waste such as packaging, textiles, and structural materials. REMARS proposes an intelligent recycling system that classifies, transforms, and reuses Martian mission waste to produce 3D printing filaments and modular parts, reducing resupply needs and increasing mission autonomy.\n",
        "#\n",
        "\n",
        "#  **Main Components:**\n",
        "# 1. Image-based waste material classification  \n",
        "# 2. Recycling pipeline planner (energy/time estimates)  \n",
        "# 3. Generation of printable OpenSCAD parts (blocks and origami panels)  \n",
        "# 4. Production queue simulator  \n",
        "# 5. Interactive Gradio interface for demo\n",
        "\n",
        "\n"
      ],
      "metadata": {
        "id": "CA-jPymrKd-0"
      }
    },
    {
      "cell_type": "markdown",
      "source": [
        "#Imports"
      ],
      "metadata": {
        "id": "YgIRTwITL29V"
      }
    },
    {
      "cell_type": "code",
      "source": [
        "!pip -q install trimesh pyglet\n"
      ],
      "metadata": {
        "id": "ncVMeWHUu95L"
      },
      "execution_count": null,
      "outputs": []
    },
    {
      "cell_type": "code",
      "source": [
        "import os\n",
        "import uuid\n",
        "import json\n",
        "import time\n",
        "import tempfile\n",
        "from pathlib import Path\n",
        "import cv2\n",
        "import gradio as gr\n",
        "import numpy as np\n",
        "from PIL import Image\n",
        "import matplotlib\n",
        "matplotlib.use(\"Agg\")\n",
        "from matplotlib import pyplot as plt\n",
        "from mpl_toolkits.mplot3d import Axes3D"
      ],
      "metadata": {
        "id": "ep3jsfeRL5RV"
      },
      "execution_count": null,
      "outputs": []
    },
    {
      "cell_type": "markdown",
      "source": [
        "# Labels and Energy Reference"
      ],
      "metadata": {
        "id": "JQoKdXnUL-jz"
      }
    },
    {
      "cell_type": "code",
      "source": [
        "LABELS = [\"plastic\", \"metal\", \"textile\", \"composite\"]\n",
        "\n",
        "ENERGY_REF = {\n",
        "    \"SHRED_Wh_per_kg\": 120,\n",
        "    \"EXTRU_Wh_per_kg\": 600,\n",
        "    \"PRINT_Wh_per_kg\": 450,\n",
        "    \"METAL_kWh_per_kg\": 5.0,\n",
        "    \"TEXTILE_Wh_per_kg\": 180\n",
        "}\n",
        "\n",
        "last_material = None"
      ],
      "metadata": {
        "id": "nACNUYNdNJXp"
      },
      "execution_count": null,
      "outputs": []
    },
    {
      "cell_type": "markdown",
      "source": [
        "#Heuristic Material Classifier"
      ],
      "metadata": {
        "id": "aoU6T0I4NO6z"
      }
    },
    {
      "cell_type": "code",
      "source": [
        "def classify_material(img: Image.Image):\n",
        "    global last_material\n",
        "    im = np.array(img.convert(\"RGB\"))\n",
        "    hsv = cv2.cvtColor(im, cv2.COLOR_RGB2HSV)\n",
        "    sat = float(hsv[..., 1].mean())\n",
        "    val = float(hsv[..., 2].mean())\n",
        "    edges = float(cv2.Canny(cv2.cvtColor(im, cv2.COLOR_RGB2GRAY), 80, 200).mean())\n",
        "    score = {\n",
        "        \"plastic\": 0.6 * sat + 0.2 * val - 0.1 * edges,\n",
        "        \"metal\":   0.7 * edges + 0.2 * val - 0.2 * sat,\n",
        "        \"textile\": 0.6 * sat + 0.1 * edges - 0.1 * val,\n",
        "        \"composite\": 0.3 * sat + 0.3 * edges + 0.1 * val\n",
        "    }\n",
        "    label = max(score, key=score.get)\n",
        "    last_material = label\n",
        "    score = {k: float(v) for k, v in score.items()}\n",
        "    return label, json.dumps(score, indent=2)"
      ],
      "metadata": {
        "id": "YCS_MhmbNRaW"
      },
      "execution_count": null,
      "outputs": []
    },
    {
      "cell_type": "markdown",
      "source": [
        "#Recycling Pipeline Planner"
      ],
      "metadata": {
        "id": "V2URv89CNZM5"
      }
    },
    {
      "cell_type": "code",
      "source": [
        "\n",
        "def plan_pipeline(material: str, mass_kg: float, isru_pct: float):\n",
        "    mass_kg = max(0.01, float(mass_kg))\n",
        "    isru_pct = max(0.0, min(80.0, float(isru_pct)))\n",
        "    plan = []\n",
        "    energy_Wh = 0.0\n",
        "    if material == \"plastic\":\n",
        "        plan = [\"SEP\", \"SHRED\", \"EXTRU\", \"PRINT3D\"]\n",
        "        energy_Wh += ENERGY_REF[\"SHRED_Wh_per_kg\"] * mass_kg\n",
        "        energy_Wh += ENERGY_REF[\"EXTRU_Wh_per_kg\"] * mass_kg\n",
        "        energy_Wh += ENERGY_REF[\"PRINT_Wh_per_kg\"] * mass_kg\n",
        "    elif material == \"metal\":\n",
        "        plan = [\"SEP\", \"METAL\"]\n",
        "        energy_Wh += ENERGY_REF[\"METAL_kWh_per_kg\"] * 1000 * mass_kg\n",
        "    elif material == \"textile\":\n",
        "        plan = [\"SEP\", \"TEXTILE\"]\n",
        "        energy_Wh += ENERGY_REF[\"TEXTILE_Wh_per_kg\"] * mass_kg\n",
        "    else:\n",
        "        plan = [\"SEP\", \"SHRED\", \"EXTRU\", \"PRINT3D\"]\n",
        "        energy_Wh += (ENERGY_REF[\"SHRED_Wh_per_kg\"] +\n",
        "                      ENERGY_REF[\"EXTRU_Wh_per_kg\"] +\n",
        "                      ENERGY_REF[\"PRINT_Wh_per_kg\"]) * mass_kg\n",
        "    comp_ratio = isru_pct / 100.0\n",
        "    effective_mass = mass_kg * (1.0 + comp_ratio)\n",
        "    throughput_kg_h = {\"SHRED\": 6.0, \"EXTRU\": 1.2, \"PRINT3D\": 0.3, \"METAL\": 0.8, \"TEXTILE\": 2.0}\n",
        "    def step_time(step: str) -> float:\n",
        "        if step in throughput_kg_h:\n",
        "            return effective_mass / throughput_kg_h[step]\n",
        "        return 0.05\n",
        "    total_h = sum(step_time(s) for s in plan)\n",
        "    return {\n",
        "        \"pipeline\": plan,\n",
        "        \"mass_total_kg\": round(effective_mass, 3),\n",
        "        \"energy_Wh\": int(energy_Wh),\n",
        "        \"est_time_h\": round(total_h, 2),\n",
        "        \"isru_pct\": isru_pct,\n",
        "        \"material\": material\n",
        "    }"
      ],
      "metadata": {
        "id": "IM5aCcyDNazS"
      },
      "execution_count": null,
      "outputs": []
    },
    {
      "cell_type": "markdown",
      "source": [
        "#OpenSCAD Generator: LEGO Block and Origami Panel"
      ],
      "metadata": {
        "id": "wcs5ZdWeNi7u"
      }
    },
    {
      "cell_type": "code",
      "source": [
        "def _write_scad(basename: str, content: str) -> str:\n",
        "    d = tempfile.mkdtemp()\n",
        "    p = os.path.join(d, basename)\n",
        "    with open(p, \"w\", encoding=\"utf-8\") as f:\n",
        "        f.write(content)\n",
        "    return p\n",
        "\n",
        "def _save_fig(fig) -> str:\n",
        "    d = tempfile.mkdtemp()\n",
        "    p = os.path.join(d, f\"preview_{uuid.uuid4().hex}.png\")\n",
        "    fig.savefig(p, dpi=150, bbox_inches=\"tight\")\n",
        "    plt.close(fig)\n",
        "    return p\n",
        "\n",
        "def scad_block_lego(w_cm: float = 20, h_cm: float = 20, t_cm: float = 3, pin: bool = True) -> str:\n",
        "    w = int(w_cm * 10)\n",
        "    h = int(h_cm * 10)\n",
        "    t = int(t_cm * 10)\n",
        "    pins = \"\"\n",
        "    if pin:\n",
        "        step = 40\n",
        "        for x in range(step // 2, int(w), step):\n",
        "            for y in range(step // 2, int(h), step):\n",
        "                pins += f\"translate([{x},{y},{t}]) cylinder(h=8, r=7, $fn=48);\\n\"\n",
        "    scad = f\"\"\"\n",
        "module block() {{\n",
        "  cube([{w},{h},{t}], center=false);\n",
        "  {pins}\n",
        "}}\n",
        "block();\n",
        "\"\"\"\n",
        "    name = f\"block_{uuid.uuid4().hex}.scad\"\n",
        "    return _write_scad(name, scad)\n",
        "\n",
        "def scad_panel_origami(w_cm: float = 20, h_cm: float = 20, t_mm: float = 2, grid: int = 6) -> str:\n",
        "    w = int(w_cm * 10)\n",
        "    h = int(h_cm * 10)\n",
        "    t = int(t_mm)\n",
        "    lines = \"\"\n",
        "    dx = w / grid\n",
        "    dy = h / grid\n",
        "    for i in range(grid + 1):\n",
        "        lines += f\"translate([0,{i*dy},0]) cube([{w},1,{t}], false);\\n\"\n",
        "        lines += f\"translate([{i*dx},0,0]) cube([1,{h},{t}], false);\\n\"\n",
        "    scad = f\"\"\"\n",
        "module panel() {{\n",
        "  difference() {{\n",
        "    cube([{w},{h},{t}], center=false);\n",
        "    translate([0,0,0]) union() {{\n",
        "      {lines}\n",
        "    }}\n",
        "  }}\n",
        "}}\n",
        "panel();\n",
        "\"\"\"\n",
        "    name = f\"panel_origami_{uuid.uuid4().hex}.scad\"\n",
        "    return _write_scad(name, scad)\n",
        "\n",
        "def preview_block_png(w_cm: float = 20, h_cm: float = 20, t_cm: float = 3, pin: bool = True) -> str:\n",
        "    w = float(w_cm * 10)\n",
        "    h = float(h_cm * 10)\n",
        "    t = float(t_cm * 10)\n",
        "    fig = plt.figure(figsize=(6, 4))\n",
        "    ax = fig.add_subplot(111, projection=\"3d\")\n",
        "    ax.bar3d(0, 0, 0, w, h, t, shade=True)\n",
        "    if pin:\n",
        "        step = 40\n",
        "        theta = np.linspace(0, 2 * np.pi, 48)\n",
        "        z = np.linspace(t, t + 8, 2)\n",
        "        tt, zz = np.meshgrid(theta, z)\n",
        "        r = 7.0\n",
        "        for x in range(step // 2, int(w), step):\n",
        "            for y in range(step // 2, int(h), step):\n",
        "                xx = r * np.cos(tt) + float(x)\n",
        "                yy = r * np.sin(tt) + float(y)\n",
        "                ax.plot_surface(xx, yy, zz, linewidth=0, antialiased=False)\n",
        "    ax.set_box_aspect((w, h, t + 8))\n",
        "    ax.set_axis_off()\n",
        "    return _save_fig(fig)\n",
        "\n",
        "def preview_panel_png(w_cm: float = 20, h_cm: float = 20, t_mm: float = 2) -> str:\n",
        "    w = float(w_cm * 10)\n",
        "    h = float(h_cm * 10)\n",
        "    t = float(t_mm)\n",
        "    fig = plt.figure(figsize=(6, 4))\n",
        "    ax = fig.add_subplot(111, projection=\"3d\")\n",
        "    ax.bar3d(0, 0, 0, w, h, t, shade=True)\n",
        "    ax.set_box_aspect((w, h, t))\n",
        "    ax.set_axis_off()\n",
        "    return _save_fig(fig)\n",
        "\n",
        "def gen_block_assets():\n",
        "    return scad_block_lego(), preview_block_png()\n",
        "\n",
        "def gen_panel_assets():\n",
        "    return scad_panel_origami(), preview_panel_png()\n"
      ],
      "metadata": {
        "id": "hbnGCbZ4N2X3"
      },
      "execution_count": null,
      "outputs": []
    },
    {
      "cell_type": "markdown",
      "source": [
        "#Queue Simulator"
      ],
      "metadata": {
        "id": "9FmD2lE6N6q4"
      }
    },
    {
      "cell_type": "code",
      "source": [
        "JOBS = []\n",
        "\n",
        "def enqueue_job(material: str, mass_kg: float, isru_pct: float, piece: str):\n",
        "    plan = plan_pipeline(material, mass_kg, isru_pct)\n",
        "    job = {\n",
        "        \"id\": int(time.time() * 1000),\n",
        "        \"material\": material,\n",
        "        \"mass_kg\": float(mass_kg),\n",
        "        \"isru_pct\": float(isru_pct),\n",
        "        \"piece\": piece,\n",
        "        \"plan\": plan,\n",
        "        \"status\": \"queued\"\n",
        "    }\n",
        "    JOBS.append(job)\n",
        "    return json.dumps(job, indent=2)\n",
        "\n",
        "def list_jobs():\n",
        "    return json.dumps(JOBS[-10:], indent=2)\n"
      ],
      "metadata": {
        "id": "p9rGfEXoN-9Y"
      },
      "execution_count": null,
      "outputs": []
    },
    {
      "cell_type": "markdown",
      "source": [
        "#Gradio Interface"
      ],
      "metadata": {
        "id": "3pTANpDpODQj"
      }
    },
    {
      "cell_type": "code",
      "source": [
        "def get_last_material():\n",
        "    return (last_material or \"plastic\")\n",
        "\n",
        "with gr.Blocks(theme=\"base\") as demo:\n",
        "    gr.Markdown(\"# Mars FabLab — Recycling & Origami\")\n",
        "    gr.Markdown(\"Classify waste, plan recycling pipeline, generate SCAD parts and simulate queue.\")\n",
        "\n",
        "    with gr.Tab(\"Classify Material\"):\n",
        "        img = gr.Image(type=\"pil\", label=\"Upload waste image\")\n",
        "        out_label = gr.Textbox(label=\"Predicted material\")\n",
        "        out_score = gr.Code(label=\"Scores\")\n",
        "        gr.Button(\"Classify\").click(classify_material, img, [out_label, out_score])\n",
        "\n",
        "    with gr.Tab(\"Plan Recycling\"):\n",
        "        mat = gr.Dropdown(LABELS, label=\"Material\", value=\"plastic\")\n",
        "        mass = gr.Number(label=\"Mass (kg)\", value=1.0, precision=2)\n",
        "        isru = gr.Slider(0, 80, value=20, step=5, label=\"ISRU blend (%)\")\n",
        "        gr.Button(\"Use last detected material\").click(get_last_material, outputs=mat)\n",
        "        plan_out = gr.JSON(label=\"Plan\")\n",
        "        gr.Button(\"Generate plan\").click(plan_pipeline, [mat, mass, isru], plan_out)\n",
        "\n",
        "    with gr.Tab(\"Generate Part (SCAD)\"):\n",
        "        with gr.Row():\n",
        "            btn1 = gr.Button(\"LEGO Block 20×20 cm\")\n",
        "            scad1 = gr.File(label=\"block.scad\")\n",
        "            prev1 = gr.Image(label=\"Preview\", type=\"filepath\")\n",
        "        with gr.Row():\n",
        "            btn2 = gr.Button(\"Origami Panel 20×20 cm\")\n",
        "            scad2 = gr.File(label=\"panel_origami.scad\")\n",
        "            prev2 = gr.Image(label=\"Preview\", type=\"filepath\")\n",
        "        btn1.click(gen_block_assets, outputs=[scad1, prev1])\n",
        "        btn2.click(gen_panel_assets, outputs=[scad2, prev2])\n",
        "\n",
        "    with gr.Tab(\"Simulate Production\"):\n",
        "        mat2 = gr.Dropdown(LABELS, label=\"Material\", value=\"plastic\")\n",
        "        mass2 = gr.Number(label=\"Mass (kg)\", value=0.5, precision=2)\n",
        "        isru2 = gr.Slider(0, 80, value=10, step=5, label=\"ISRU blend (%)\")\n",
        "        piece = gr.Dropdown([\"block_20cm\", \"panel_origami\"], value=\"block_20cm\", label=\"Part\")\n",
        "        out_job = gr.Code(label=\"Queued job\")\n",
        "        out_queue = gr.Code(label=\"Queue (last 10)\")\n",
        "        gr.Button(\"Add to queue\").click(enqueue_job, [mat2, mass2, isru2, piece], out_job)\n",
        "        gr.Button(\"Show queue\").click(list_jobs, None, out_queue)"
      ],
      "metadata": {
        "id": "8j_O66svOKwN"
      },
      "execution_count": null,
      "outputs": []
    },
    {
      "cell_type": "markdown",
      "source": [
        "#Launch"
      ],
      "metadata": {
        "id": "Ln0HkqLWOPDR"
      }
    },
    {
      "cell_type": "code",
      "source": [
        "demo.launch(debug=False)"
      ],
      "metadata": {
        "colab": {
          "base_uri": "https://localhost:8080/",
          "height": 626
        },
        "id": "nr3JyevrORb7",
        "outputId": "9cf27e37-8d2d-4299-e379-5f27334b1dac"
      },
      "execution_count": null,
      "outputs": [
        {
          "output_type": "stream",
          "name": "stdout",
          "text": [
            "It looks like you are running Gradio on a hosted Jupyter notebook, which requires `share=True`. Automatically setting `share=True` (you can turn this off by setting `share=False` in `launch()` explicitly).\n",
            "\n",
            "Colab notebook detected. To show errors in colab notebook, set debug=True in launch()\n",
            "* Running on public URL: https://b879567508f560d9ab.gradio.live\n",
            "\n",
            "This share link expires in 1 week. For free permanent hosting and GPU upgrades, run `gradio deploy` from the terminal in the working directory to deploy to Hugging Face Spaces (https://huggingface.co/spaces)\n"
          ]
        },
        {
          "output_type": "display_data",
          "data": {
            "text/plain": [
              "<IPython.core.display.HTML object>"
            ],
            "text/html": [
              "<div><iframe src=\"https://b879567508f560d9ab.gradio.live\" width=\"100%\" height=\"500\" allow=\"autoplay; camera; microphone; clipboard-read; clipboard-write;\" frameborder=\"0\" allowfullscreen></iframe></div>"
            ]
          },
          "metadata": {}
        },
        {
          "output_type": "execute_result",
          "data": {
            "text/plain": []
          },
          "metadata": {},
          "execution_count": 19
        }
      ]
    }
  ]
}